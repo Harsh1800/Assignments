{
 "cells": [
  {
   "cell_type": "code",
   "execution_count": 5,
   "metadata": {},
   "outputs": [
    {
     "name": "stdout",
     "output_type": "stream",
     "text": [
      "Sum of all elements in given list is 84\n"
     ]
    }
   ],
   "source": [
    "#1\n",
    "list1 = [19, 8, 12, 18, 27]\n",
    "total=0\n",
    "\n",
    "for element in range(0, len(list1)):\n",
    "    total = total + list1[element]\n",
    " \n",
    "# printing total value\n",
    "print(\"Sum of all elements in given list is\",total)"
   ]
  },
  {
   "cell_type": "code",
   "execution_count": 9,
   "metadata": {},
   "outputs": [
    {
     "name": "stdout",
     "output_type": "stream",
     "text": [
      "Multiplication of all elements in given list is 886464\n"
     ]
    }
   ],
   "source": [
    "#2\n",
    "list1 = [19, 8, 12, 18, 27]\n",
    "total=1\n",
    "\n",
    "for element in range(0, len(list1)):\n",
    "    total = total*list1[element]\n",
    " \n",
    "# printing total value\n",
    "print(\"Multiplication of all elements in given list is\",total)"
   ]
  },
  {
   "cell_type": "code",
   "execution_count": 12,
   "metadata": {},
   "outputs": [
    {
     "name": "stdout",
     "output_type": "stream",
     "text": [
      "Smallest element is: 13\n"
     ]
    }
   ],
   "source": [
    "#3\n",
    "list1 = [45, 13, 22, 32, 56]\n",
    " \n",
    "# printing the smallest number\n",
    "print(\"Smallest element is:\", min(list1))"
   ]
  },
  {
   "cell_type": "code",
   "execution_count": 14,
   "metadata": {},
   "outputs": [
    {
     "name": "stdout",
     "output_type": "stream",
     "text": [
      "Largest element is: 56\n"
     ]
    }
   ],
   "source": [
    "#4\n",
    "list1 = [45, 13, 22, 32, 56]\n",
    " \n",
    "# printing the largest number\n",
    "print(\"Largest element is:\", max(list1))"
   ]
  },
  {
   "cell_type": "code",
   "execution_count": 19,
   "metadata": {},
   "outputs": [
    {
     "name": "stdout",
     "output_type": "stream",
     "text": [
      "Enter number of elements in list: 4\n",
      "Enter elements: 45\n",
      "Enter elements: 13\n",
      "Enter elements: 22\n",
      "Enter elements: 32\n",
      "Second largest element is: 32\n"
     ]
    }
   ],
   "source": [
    "#5\n",
    "list1 = []\n",
    "\n",
    "num = int(input(\"Enter number of elements in list: \"))\n",
    " \n",
    "for i in range(1, num + 1):\n",
    "    element = int(input(\"Enter elements: \"))\n",
    "    list1.append(element)\n",
    " \n",
    "print(\"Second largest element is:\", sorted(list1)[-2])"
   ]
  },
  {
   "cell_type": "code",
   "execution_count": 22,
   "metadata": {},
   "outputs": [
    {
     "name": "stdout",
     "output_type": "stream",
     "text": [
      "[398, 450, 985, 1800]\n"
     ]
    }
   ],
   "source": [
    "#6\n",
    "list1 = [398,-28,985,1800,128,212,-76,450]\n",
    "N = 4\n",
    "  \n",
    "list1.sort()\n",
    "print(list1[-N:])"
   ]
  },
  {
   "cell_type": "code",
   "execution_count": 24,
   "metadata": {},
   "outputs": [
    {
     "name": "stdout",
     "output_type": "stream",
     "text": [
      "22 76 98 12 "
     ]
    }
   ],
   "source": [
    "#7\n",
    "list1 = [22,87,76,98,12,35,79]\n",
    " \n",
    "for num in list1:\n",
    "    if num % 2 == 0:\n",
    "        print(num, end=\" \")"
   ]
  },
  {
   "cell_type": "code",
   "execution_count": 25,
   "metadata": {},
   "outputs": [
    {
     "name": "stdout",
     "output_type": "stream",
     "text": [
      "21 73 35 79 "
     ]
    }
   ],
   "source": [
    "#8\n",
    "list1 = [21,73,76,86,12,35,79]\n",
    "  \n",
    "for num in list1:\n",
    "    if num % 2 != 0:\n",
    "       print(num, end = \" \")"
   ]
  },
  {
   "cell_type": "code",
   "execution_count": 27,
   "metadata": {},
   "outputs": [
    {
     "name": "stdout",
     "output_type": "stream",
     "text": [
      "The original list is : [3, [], 8, 9, [], 2, 5, [], [], 4]\n",
      "List after empty list removal : [3, 8, 9, 2, 5, 4]\n"
     ]
    }
   ],
   "source": [
    "#9\n",
    "myList = [3, [], 8, 9, [], 2, 5, [], [], 4]\n",
    "\n",
    "print(\"The original list is : \" + str(myList))\n",
    "result = list(filter(None, myList))\n",
    "print (\"List after empty list removal : \" + str(result))\n"
   ]
  },
  {
   "cell_type": "code",
   "execution_count": 29,
   "metadata": {},
   "outputs": [
    {
     "name": "stdout",
     "output_type": "stream",
     "text": [
      "Original List: [4, 8, 2, 10, 15, 18]\n",
      "After Cloning: [4, 8, 2, 10, 15, 18]\n"
     ]
    }
   ],
   "source": [
    "#10\n",
    "def Cloning(list1):\n",
    "    list1_copy = list1[:]\n",
    "    return list1_copy\n",
    "   \n",
    "list1 = [4, 8, 2, 10, 15, 18]\n",
    "list2 = Cloning(list1)\n",
    "print(\"Original List:\", list1)\n",
    "print(\"After Cloning:\", list2)"
   ]
  },
  {
   "cell_type": "code",
   "execution_count": 31,
   "metadata": {},
   "outputs": [
    {
     "name": "stdout",
     "output_type": "stream",
     "text": [
      "8 has occurred 5 times\n"
     ]
    }
   ],
   "source": [
    "#11\n",
    "def countX(list1, x):\n",
    "    return list1.count(x)\n",
    " \n",
    "list1 = [8, 6, 8, 10, 8, 20, 10, 8, 8]\n",
    "x = 8\n",
    "print('{} has occurred {} times'.format(x, countX(list1, x)))"
   ]
  }
 ],
 "metadata": {
  "kernelspec": {
   "display_name": "Python 3",
   "language": "python",
   "name": "python3"
  },
  "language_info": {
   "codemirror_mode": {
    "name": "ipython",
    "version": 3
   },
   "file_extension": ".py",
   "mimetype": "text/x-python",
   "name": "python",
   "nbconvert_exporter": "python",
   "pygments_lexer": "ipython3",
   "version": "3.8.3"
  }
 },
 "nbformat": 4,
 "nbformat_minor": 4
}
