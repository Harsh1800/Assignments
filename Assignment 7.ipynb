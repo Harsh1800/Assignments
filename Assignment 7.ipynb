{
 "cells": [
  {
   "cell_type": "code",
   "execution_count": 12,
   "metadata": {},
   "outputs": [
    {
     "name": "stdout",
     "output_type": "stream",
     "text": [
      "Sum of all the elements of an array: 85\n"
     ]
    }
   ],
   "source": [
    "#1\n",
    "arr = [12,13,19,23,18];     \n",
    "sum = 0;    \n",
    "      \n",
    "for i in range(0, len(arr)):    \n",
    "   sum = sum + arr[i];    \n",
    "     \n",
    "print(\"Sum of all the elements of an array: \" + str(sum));    "
   ]
  },
  {
   "cell_type": "code",
   "execution_count": 33,
   "metadata": {},
   "outputs": [
    {
     "name": "stdout",
     "output_type": "stream",
     "text": [
      "Largest element prsenting in given array is : 42\n"
     ]
    }
   ],
   "source": [
    "#2\n",
    "arr=[14,24,27,12,42]\n",
    "d=len(arr)\n",
    "max=arr[0]\n",
    "for i in range (0,len(arr)):\n",
    "    if(arr[i>max]):\n",
    "        max=arr[i]\n",
    "print(\"Largest element prsenting in given array is :\",str(max))"
   ]
  },
  {
   "cell_type": "code",
   "execution_count": 24,
   "metadata": {},
   "outputs": [
    {
     "name": "stdout",
     "output_type": "stream",
     "text": [
      "[1, 2, 3, 4, 5, 6]\n",
      "Roted list is : [3, 4, 5, 6, 1, 2]\n"
     ]
    }
   ],
   "source": [
    "#3\n",
    "def rotate_List(arr,d,n):\n",
    "  arr[:]=arr[d:n]+arr[0:d]\n",
    "  return arr\n",
    "\n",
    "arr = [1, 2, 3, 4, 5, 6]\n",
    "print(arr)\n",
    "print(\"Roted list is :\",rotate_List(arr,2,len(arr))) "
   ]
  },
  {
   "cell_type": "code",
   "execution_count": 30,
   "metadata": {},
   "outputs": [
    {
     "name": "stdout",
     "output_type": "stream",
     "text": [
      "Enter Position from where you want to split4\n",
      "The list is :\n",
      "[34, 42, 56, 78, 9, 0, 23]\n",
      "The split_list method is being called\n",
      "9\n",
      "0\n",
      "23\n",
      "34\n",
      "42\n",
      "56\n",
      "78\n"
     ]
    }
   ],
   "source": [
    "#4\n",
    "def split_list(my_list, n_val, k_val):\n",
    "   for i in range(0, k_val):\n",
    "      first_val = my_list[0]\n",
    "      for k in range(0, n_val-1):\n",
    "         my_list[k] = my_list[k + 1]\n",
    "      my_list[n_val-1] = first_val\n",
    "my_list = [34, 42, 56, 78, 9, 0, 23]\n",
    "list_len = len(my_list)\n",
    "pos = int(input(\"Enter Position from where you want to split\"))\n",
    "print(\"The list is :\")\n",
    "print(my_list)\n",
    "print(\"The split_list method is being called\")\n",
    "split_list(my_list, list_len, pos)\n",
    "for i in range(0, list_len):\n",
    " print(my_list[i])"
   ]
  },
  {
   "cell_type": "code",
   "execution_count": 32,
   "metadata": {},
   "outputs": [
    {
     "name": "stdout",
     "output_type": "stream",
     "text": [
      "True\n"
     ]
    }
   ],
   "source": [
    "#5\n",
    "def is_monotonic(A):\n",
    "  \n",
    "    return (all(A[i] <= A[i + 1] for i in range(len(A) - 1)) or\n",
    "            all(A[i] >= A[i + 1] for i in range(len(A) - 1)))\n",
    "  \n",
    "A = [6, 5, 4, 4]\n",
    "print(is_monotonic(A))"
   ]
  }
 ],
 "metadata": {
  "kernelspec": {
   "display_name": "Python 3",
   "language": "python",
   "name": "python3"
  },
  "language_info": {
   "codemirror_mode": {
    "name": "ipython",
    "version": 3
   },
   "file_extension": ".py",
   "mimetype": "text/x-python",
   "name": "python",
   "nbconvert_exporter": "python",
   "pygments_lexer": "ipython3",
   "version": "3.8.3"
  }
 },
 "nbformat": 4,
 "nbformat_minor": 4
}
