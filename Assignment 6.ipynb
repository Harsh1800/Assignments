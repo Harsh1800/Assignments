{
 "cells": [
  {
   "cell_type": "code",
   "execution_count": 1,
   "metadata": {},
   "outputs": [
    {
     "name": "stdout",
     "output_type": "stream",
     "text": [
      "Enter Number3\n",
      "Fibonacci sequence:\n",
      "0\n",
      "1\n",
      "1\n"
     ]
    }
   ],
   "source": [
    "#1\n",
    "def recursion_fibonacci(n):\n",
    "   if n <= 1:\n",
    "       return n\n",
    "   else:\n",
    "       return(recursion_fibonacci(n-1) + recursion_fibonacci(n-2))\n",
    "\n",
    "nterms = int(input(\"Enter Number\"))\n",
    "\n",
    "if nterms <= 0:\n",
    "   print(\"Enter any positive Integer\")\n",
    "else:\n",
    "   print(\"Fibonacci sequence:\")\n",
    "   for i in range(nterms):\n",
    "       print(recursion_fibonacci(i))"
   ]
  },
  {
   "cell_type": "code",
   "execution_count": 2,
   "metadata": {},
   "outputs": [
    {
     "name": "stdout",
     "output_type": "stream",
     "text": [
      "Enter any number5\n",
      "number :  5\n",
      "Factorial :  120\n"
     ]
    }
   ],
   "source": [
    "#2\n",
    "def factorial(n): \n",
    "    if (n==1 or n==0):\n",
    "          return 1\n",
    "    else:\n",
    "          return (n * factorial(n - 1)) \n",
    "  \n",
    "num = int(input(\"Enter any number\")); \n",
    "print(\"number : \",num)\n",
    "print(\"Factorial : \",factorial(num))"
   ]
  },
  {
   "cell_type": "code",
   "execution_count": 5,
   "metadata": {},
   "outputs": [
    {
     "name": "stdout",
     "output_type": "stream",
     "text": [
      "Enter your height(m): 72\n",
      "Enter your weight(kg): 65\n",
      "Your BMI is:  0.01\n"
     ]
    }
   ],
   "source": [
    "#3\n",
    "height = float(input(\"Enter your height(m): \"))\n",
    "weight = float(input(\"Enter your weight(kg): \"))\n",
    "print(\"Your BMI is: \", round(weight / (height * height), 2))"
   ]
  },
  {
   "cell_type": "code",
   "execution_count": 7,
   "metadata": {},
   "outputs": [
    {
     "name": "stdout",
     "output_type": "stream",
     "text": [
      "Enter any number14\n",
      "Natural logarithm is : 2.6390573296152584\n"
     ]
    }
   ],
   "source": [
    "#4\n",
    "import math\n",
    "num=int(input(\"Enter any number\"))\n",
    "print (\"Natural logarithm is : \", end=\"\")\n",
    "print (math.log(num))"
   ]
  },
  {
   "cell_type": "code",
   "execution_count": 12,
   "metadata": {},
   "outputs": [
    {
     "name": "stdout",
     "output_type": "stream",
     "text": [
      "Enter any number3\n",
      "36\n"
     ]
    }
   ],
   "source": [
    "#5\n",
    "def sum_Of_series(n):\n",
    "   sum = 0\n",
    "   for i in range(1, n+1):\n",
    "      sum +=i*i*i\n",
    "   return sum\n",
    "# Driver Function\n",
    "n = int(input(\"Enter any number\"))\n",
    "print(sum_Of_series(n))"
   ]
  },
  {
   "cell_type": "code",
   "execution_count": null,
   "metadata": {},
   "outputs": [],
   "source": []
  }
 ],
 "metadata": {
  "kernelspec": {
   "display_name": "Python 3",
   "language": "python",
   "name": "python3"
  },
  "language_info": {
   "codemirror_mode": {
    "name": "ipython",
    "version": 3
   },
   "file_extension": ".py",
   "mimetype": "text/x-python",
   "name": "python",
   "nbconvert_exporter": "python",
   "pygments_lexer": "ipython3",
   "version": "3.8.3"
  }
 },
 "nbformat": 4,
 "nbformat_minor": 4
}
